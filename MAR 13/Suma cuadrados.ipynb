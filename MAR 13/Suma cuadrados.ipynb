{
 "cells": [
  {
   "cell_type": "code",
   "execution_count": 8,
   "id": "649579e7",
   "metadata": {},
   "outputs": [
    {
     "name": "stdout",
     "output_type": "stream",
     "text": [
      "La suma de cuadrados [56, 6, 2, 1] es la mínima posible que da como resultado 3177\n"
     ]
    }
   ],
   "source": [
    "import random\n",
    "import itertools  # Importamos la librería itertools para generar las combinaciones de índices\n",
    "import numpy as np\n",
    "import math\n",
    "\n",
    "def cuadrados(n):\n",
    "    c = []\n",
    "    while n > 1:\n",
    "        a = math.trunc(np.sqrt(n))\n",
    "        c.append(a)\n",
    "        n -= a**2\n",
    "    c.append(1)\n",
    "    return c\n",
    "\n",
    "n = random.randint(1000, 10000)  # Generamos un número aleatorio n\n",
    "\n",
    "cuadrados_n = cuadrados(n)  # Obtenemos la lista de cuadrados necesarios para representar n\n",
    "sum_cuadrados_n = sum([c**2 for c in cuadrados_n])  # Obtenemos la suma de cuadrados de la lista de cuadrados\n",
    "\n",
    "min_sum_cuadrados_k = float('inf')  # Inicializamos la suma de cuadrados mínima como infinito\n",
    "for k in range(1, len(cuadrados_n) + 1):  # Recorremos todas las posibles longitudes k de sublistas de cuadrados_n\n",
    "    for indices in itertools.combinations(range(len(cuadrados_n)), k):  # Generamos todas las combinaciones de índices de longitud k\n",
    "        if sum([cuadrados_n[i]**2 for i in indices]) == n:  # Si la suma de cuadrados de la sublista correspondiente a los índices es igual a n\n",
    "            min_sum_cuadrados_k = min(min_sum_cuadrados_k, sum([cuadrados_n[i]**2 for i in indices]))  # Actualizamos la suma de cuadrados mínima\n",
    "\n",
    "if sum_cuadrados_n == min_sum_cuadrados_k:  # Si la suma de cuadrados de la lista original es igual a la suma de cuadrados mínima\n",
    "    print(f\"La suma de cuadrados {cuadrados_n} es la mínima posible que da como resultado {n}\")  # Imprimimos el mensaje correspondiente\n",
    "else:\n",
    "    print(f\"La suma de cuadrados {cuadrados_n} no es la mínima posible que da como resultado {n}\")  # Imprimimos el mensaje correspondiente"
   ]
  },
  {
   "cell_type": "code",
   "execution_count": null,
   "id": "04b49404",
   "metadata": {},
   "outputs": [],
   "source": []
  },
  {
   "cell_type": "code",
   "execution_count": null,
   "id": "c128db75",
   "metadata": {},
   "outputs": [],
   "source": []
  },
  {
   "cell_type": "code",
   "execution_count": null,
   "id": "d1f33c6b",
   "metadata": {},
   "outputs": [],
   "source": []
  },
  {
   "cell_type": "code",
   "execution_count": null,
   "id": "6787d207",
   "metadata": {},
   "outputs": [],
   "source": []
  }
 ],
 "metadata": {
  "kernelspec": {
   "display_name": "Python 3 (ipykernel)",
   "language": "python",
   "name": "python3"
  },
  "language_info": {
   "codemirror_mode": {
    "name": "ipython",
    "version": 3
   },
   "file_extension": ".py",
   "mimetype": "text/x-python",
   "name": "python",
   "nbconvert_exporter": "python",
   "pygments_lexer": "ipython3",
   "version": "3.9.6"
  }
 },
 "nbformat": 4,
 "nbformat_minor": 5
}
