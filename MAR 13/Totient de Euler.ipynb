{
 "cells": [
  {
   "cell_type": "code",
   "execution_count": 6,
   "id": "71f8ebfc",
   "metadata": {},
   "outputs": [
    {
     "name": "stdout",
     "output_type": "stream",
     "text": [
      "480\n"
     ]
    }
   ],
   "source": [
    "def phi(n):\n",
    "    # Inicializar el resultado como n\n",
    "    result = n\n",
    "    \n",
    "    # Considerar todos los números i desde 2 hasta n-1\n",
    "    for i in range(2, n):\n",
    "        # Verificar si i es un factor primo de n\n",
    "        if n % i == 0:\n",
    "            # Si es así, actualizar el resultado y remover todos los múltiplos de i de n\n",
    "            result *= (i - 1) / i\n",
    "            while n % i == 0:\n",
    "                n //= i\n",
    "                \n",
    "    # Si n tiene un factor primo mayor que su raíz cuadrada, ese factor primo debe ser contado\n",
    "    if n > 1:\n",
    "        result *= (n - 1) / n\n",
    "        \n",
    "    return int(result)\n",
    "    \n",
    "print(phi(1300))\n"
   ]
  },
  {
   "cell_type": "markdown",
   "id": "68f13a9a",
   "metadata": {},
   "source": [
    "El cálculo del totient de Euler es mucho más rápido que la comprobación de cada número individualmente. La complejidad de calcular el totient de Euler usando la función phi es O(sqrt(n)), mientras que la complejidad de comprobar cada número individualmente es O(n). Esto significa que a medida que n aumenta, el tiempo necesario para calcular el totient de Euler usando la función phi aumentará mucho más lentamente que el tiempo necesario para comprobar cada número individualmente."
   ]
  },
  {
   "cell_type": "code",
   "execution_count": null,
   "id": "9900b139",
   "metadata": {},
   "outputs": [],
   "source": []
  }
 ],
 "metadata": {
  "kernelspec": {
   "display_name": "Python 3 (ipykernel)",
   "language": "python",
   "name": "python3"
  },
  "language_info": {
   "codemirror_mode": {
    "name": "ipython",
    "version": 3
   },
   "file_extension": ".py",
   "mimetype": "text/x-python",
   "name": "python",
   "nbconvert_exporter": "python",
   "pygments_lexer": "ipython3",
   "version": "3.9.6"
  }
 },
 "nbformat": 4,
 "nbformat_minor": 5
}
