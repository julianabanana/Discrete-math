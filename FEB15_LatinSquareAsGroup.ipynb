{
  "cells": [
    {
      "cell_type": "code",
      "execution_count": null,
      "id": "93da2a1b-31f8-4f77-96f8-de59d554f39d",
      "metadata": {
        "id": "93da2a1b-31f8-4f77-96f8-de59d554f39d"
      },
      "outputs": [],
      "source": [
        "import pandas as pd \n",
        "import numpy as np"
      ]
    },
    {
      "cell_type": "code",
      "execution_count": null,
      "id": "ad126a95-0e7d-4ba8-982f-546dd469dedf",
      "metadata": {
        "id": "ad126a95-0e7d-4ba8-982f-546dd469dedf",
        "outputId": "0bb95b9d-07da-4328-89cf-962f0fbc55df"
      },
      "outputs": [
        {
          "name": "stdout",
          "output_type": "stream",
          "text": [
            "[1, 2, 3, 4]\n"
          ]
        }
      ],
      "source": [
        "df = [ [1, 2, 3, 4],          #definicion de la tabla \n",
        "       [2, 1, 4, 3],\n",
        "       [3, 4, 1, 2],\n",
        "       [4, 3, 2, 1]\n",
        "      ]\n",
        "g = [1,2,3,4] #definicion del conjunto \n",
        "print (g)\n",
        "#tablas = pd.read_csv('C:\\\\Users\\\\biblio\\\\Documents\\\\tabal.txt') para abrir archivos de ser posible "
      ]
    },
    {
      "cell_type": "code",
      "execution_count": null,
      "id": "7cd86944-19d1-47f6-9b70-093611380c20",
      "metadata": {
        "id": "7cd86944-19d1-47f6-9b70-093611380c20"
      },
      "outputs": [],
      "source": [
        "for i in range(len(df)):\n",
        "    a = list(set(df[i]))\n",
        "    if a!= g: #identificar si la tabla no es cerrada \n",
        "        print('no es un cuadrado latino')\n",
        "        break\n",
        "    b = df[i]\n",
        "    if len(a) != len (b) or len(df) != len(df[0]):#identificar si existen valores duplicados en las filas \n",
        "        print ('no es un cuadrado latino')\n",
        "        break"
      ]
    },
    {
      "cell_type": "code",
      "execution_count": null,
      "id": "e713d66d-bfee-4734-9ccd-7e75c364d469",
      "metadata": {
        "id": "e713d66d-bfee-4734-9ccd-7e75c364d469",
        "outputId": "70a11f77-c5c7-4974-ea85-37314b296d19"
      },
      "outputs": [
        {
          "name": "stdout",
          "output_type": "stream",
          "text": [
            "[[1, 2, 3, 4], [2, 1, 4, 3], [3, 4, 1, 2], [4, 3, 2, 1]]\n"
          ]
        }
      ],
      "source": [
        "if df[0] != g:#Organizar de manera que la identidad quede en la parte superior de la tabla\n",
        "    \n",
        "    for i in range(len(df)):\n",
        "        if df[i] == g:\n",
        "            a = df[0]\n",
        "            print(df[0],df[i])\n",
        "            df[0] = df[i]\n",
        "            df[i] = a\n",
        "            break\n",
        "print (df)    "
      ]
    },
    {
      "cell_type": "code",
      "execution_count": null,
      "id": "126d146e-47cb-4733-b8c3-0b2139c303d7",
      "metadata": {
        "id": "126d146e-47cb-4733-b8c3-0b2139c303d7"
      },
      "outputs": [],
      "source": [
        "    for i in range(len(df)): #comprobar asociatividad caso por caso\n",
        "        for j in range(len(df)):\n",
        "            for k in range(len(df)):\n",
        "                for l in range(len(df)):\n",
        "                    if (df[i][j] + df[j][k]) + df[k][l] != df[i][j] + (df[j][k] + df[k][l]):\n",
        "                        print (\"no cumple con la asociatividad\")"
      ]
    },
    {
      "cell_type": "code",
      "execution_count": null,
      "id": "43a90b0d-3e17-4ea0-978a-c3c0ade30b00",
      "metadata": {
        "id": "43a90b0d-3e17-4ea0-978a-c3c0ade30b00"
      },
      "outputs": [],
      "source": [
        "dt = [] #comprobar que existe inverso\n",
        "for i in range(len(df)):\n",
        "               \n",
        "    dt.append(0)\n",
        "\n",
        "for i in range(len(df)):\n",
        "    if(df[i][i] == df[0][0]):\n",
        "        dt[i] = df[i]\n",
        "    else:\n",
        "        for j in range(len(df)):\n",
        "            if df[i][j] == df[0][0]:\n",
        "                dt[j] = df[i]\n",
        "                    \n",
        "if 0 in dt:\n",
        "    print('no existe inverso')\n",
        "    "
      ]
    },
    {
      "cell_type": "code",
      "execution_count": null,
      "id": "bb337564",
      "metadata": {
        "id": "bb337564"
      },
      "outputs": [],
      "source": []
    }
  ],
  "metadata": {
    "kernelspec": {
      "display_name": "Python 3 (ipykernel)",
      "language": "python",
      "name": "python3"
    },
    "language_info": {
      "codemirror_mode": {
        "name": "ipython",
        "version": 3
      },
      "file_extension": ".py",
      "mimetype": "text/x-python",
      "name": "python",
      "nbconvert_exporter": "python",
      "pygments_lexer": "ipython3",
      "version": "3.11.0"
    },
    "colab": {
      "provenance": []
    }
  },
  "nbformat": 4,
  "nbformat_minor": 5
}
